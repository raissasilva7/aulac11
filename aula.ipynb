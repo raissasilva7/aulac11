{
  "nbformat": 4,
  "nbformat_minor": 0,
  "metadata": {
    "colab": {
      "provenance": [],
      "toc_visible": true
    },
    "kernelspec": {
      "name": "python3",
      "display_name": "Python 3"
    },
    "language_info": {
      "name": "python"
    }
  },
  "cells": [
    {
      "cell_type": "code",
      "source": [
        "import numpy as np\n",
        "\n",
        "#numpy array normal\n",
        "arr = np.array([1,2,3])\n",
        "print(arr)\n",
        "\n",
        "#numpy array matriz\n",
        "mtz = np.array([[1,2,3],[4,5,6],[7,8,9]])\n",
        "\n",
        "#numpy array normal tudo igual\n",
        "i= np.zeros(5)\n",
        "\n",
        "#numpy array matriz tudo igual\n",
        "m= np.ones([3,3])\n",
        "\n",
        "print(arr)\n",
        "print(mtz)\n",
        "print(i)\n",
        "print(m)"
      ],
      "metadata": {
        "colab": {
          "base_uri": "https://localhost:8080/"
        },
        "id": "BIx_Lx6zp9RU",
        "outputId": "1b07916d-9a26-4d75-badb-d1625f6f1544"
      },
      "execution_count": 10,
      "outputs": [
        {
          "output_type": "stream",
          "name": "stdout",
          "text": [
            "[1 2 3]\n",
            "[1 2 3]\n",
            "[[1 2 3]\n",
            " [4 5 6]\n",
            " [7 8 9]]\n",
            "[0. 0. 0. 0. 0.]\n",
            "[[1. 1. 1.]\n",
            " [1. 1. 1.]\n",
            " [1. 1. 1.]]\n"
          ]
        }
      ]
    }
  ]
}